{
 "cells": [
  {
   "attachments": {},
   "cell_type": "markdown",
   "metadata": {},
   "source": [
    "# Wine quality\n",
    "We want to make a classification for wine quality, regarding several aspects of the wine. We will use a dataset from [Kaggle](https://www.kaggle.com/datasets/ghassenkhaled/wine-quality-data).\n",
    "## Importing the libraries"
   ]
  },
  {
   "cell_type": "code",
   "execution_count": null,
   "metadata": {},
   "outputs": [],
   "source": [
    "import pandas as pd\n",
    "import matplotlib.pyplot as plt\n",
    "from IPython.display import display\n",
    "from os import stat\n",
    "from scipy.stats import norm\n",
    "import numpy as np\n",
    "import seaborn as sns\n",
    "%matplotlib inline"
   ]
  },
  {
   "attachments": {},
   "cell_type": "markdown",
   "metadata": {},
   "source": [
    "## Importing the dataset"
   ]
  },
  {
   "cell_type": "code",
   "execution_count": null,
   "metadata": {},
   "outputs": [],
   "source": [
    "filename = 'data/Wine_Quality_Data.csv'\n",
    "\n",
    "print(f'File size: {stat(filename).st_size / 1024} kB.')\n",
    "\n",
    "df = pd.read_csv(filename)"
   ]
  },
  {
   "attachments": {},
   "cell_type": "markdown",
   "metadata": {},
   "source": [
    "## Exploratory Data Analysis\n",
    "We are now going to explore and visualize the data."
   ]
  },
  {
   "cell_type": "code",
   "execution_count": null,
   "metadata": {},
   "outputs": [],
   "source": [
    "print(f'Name of columns: {df.columns.values}.')\n",
    "print(f'Data shape: {df.shape}.')\n",
    "print(f'Data types: {df.dtypes}.')\n",
    "print(f'Number of missing values: {df.isna().sum().sum()}.')\n",
    "\n",
    "display(df.head(10))\n",
    "display(df.describe())\n",
    "display(df.info())\n",
    "\n",
    "print(f'Wine colors: {df[\"color\"].unique()}.')\n",
    "print(f'Number of quality values: {df[\"quality\"].unique()}.')"
   ]
  },
  {
   "attachments": {},
   "cell_type": "markdown",
   "metadata": {},
   "source": [
    "As we have two wine colors, we might want to split our global dataset into two datasets, one for each color."
   ]
  },
  {
   "cell_type": "code",
   "execution_count": null,
   "metadata": {},
   "outputs": [],
   "source": [
    "data = {'red' : df[df['color'] == 'red'].drop('color', axis =1), 'white' : df[df['color'] == 'white'].drop('color', axis =1)}\n",
    "\n",
    "for color in data:\n",
    "    print(f'Wine color: {color}.')\n",
    "    display(df.head(10))\n",
    "    display(df.describe())\n",
    "    display(df.info())"
   ]
  },
  {
   "attachments": {},
   "cell_type": "markdown",
   "metadata": {},
   "source": [
    "Now, we are ging to visualize the distribution of the quality for each color."
   ]
  },
  {
   "cell_type": "code",
   "execution_count": null,
   "metadata": {},
   "outputs": [],
   "source": [
    "for color in data:\n",
    "    plt.figure(figsize=(10, 7))\n",
    "    plt.title(f'Wine color: {color}.')\n",
    "    plt.hist(data[color]['quality'], bins=range(3, 9), edgecolor='black', linewidth=1.2)\n",
    "    plt.plot(np.linspace(3,9,100), norm.pdf(np.linspace(3,9,100), data[color]['quality'].mean(), data[color]['quality'].std()) * len(data[color]['quality']) * 0.8, color='red')\n",
    "    plt.show()"
   ]
  },
  {
   "attachments": {},
   "cell_type": "markdown",
   "metadata": {},
   "source": [
    "We have quite a normal distribution. Let's see the correlation between all variables."
   ]
  },
  {
   "cell_type": "code",
   "execution_count": null,
   "metadata": {},
   "outputs": [],
   "source": [
    "for color in data:\n",
    "    print(f'Wine color: {color}.')\n",
    "    display(data[color].corr())\n",
    "    plt.figure(figsize=(13,10))\n",
    "    sns.heatmap(df.corr(), cmap = plt.cm.RdYlBu_r, vmin = -0.25, annot = True, vmax = 0.6)\n",
    "    plt.title('Correlation heatmap of the dataset')\n",
    "    plt.show()"
   ]
  },
  {
   "attachments": {},
   "cell_type": "markdown",
   "metadata": {},
   "source": [
    "The correlation matrix doesn't unveil any relevant correlation to drop a feature.\n",
    "But we notice that the `alcohol` feature is correlated with the target variable.\n",
    "Let's plot them."
   ]
  },
  {
   "cell_type": "code",
   "execution_count": null,
   "metadata": {},
   "outputs": [],
   "source": [
    "for color in data:\n",
    "    plt.figure(figsize=(10,7))\n",
    "    plt.title(f'Wine color: {color}.')\n",
    "    plt.scatter(data[color]['alcohol'],data[color]['quality'])\n",
    "    plt.show()"
   ]
  },
  {
   "attachments": {},
   "cell_type": "markdown",
   "metadata": {},
   "source": [
    "## Data preprocessing\n",
    "As we only have numerical features, we don't have to make any encoding."
   ]
  }
 ],
 "metadata": {
  "kernelspec": {
   "display_name": "Python 3",
   "language": "python",
   "name": "python3"
  },
  "language_info": {
   "codemirror_mode": {
    "name": "ipython",
    "version": 3
   },
   "file_extension": ".py",
   "mimetype": "text/x-python",
   "name": "python",
   "nbconvert_exporter": "python",
   "pygments_lexer": "ipython3",
   "version": "3.11.2"
  },
  "orig_nbformat": 4
 },
 "nbformat": 4,
 "nbformat_minor": 2
}
