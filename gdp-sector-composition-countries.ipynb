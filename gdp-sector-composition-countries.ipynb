{
 "cells": [
  {
   "attachments": {},
   "cell_type": "markdown",
   "metadata": {},
   "source": [
    "# List of Countries by GDP Sector Composition\n",
    "The dataset is available on [Kaggle](https://www.kaggle.com/datasets/rajkumarpandey02/list-of-countries-by-gdp-sector-composition).\n",
    "The goal of this dataset is to provide data visualisation of the GDP sector composition of countries."
   ]
  },
  {
   "cell_type": "code",
   "execution_count": null,
   "metadata": {},
   "outputs": [],
   "source": [
    "import pandas as pd\n",
    "import matplotlib.pyplot as plt\n",
    "from os import stat\n",
    "from IPython.display import display\n",
    "%matplotlib inline"
   ]
  },
  {
   "attachments": {},
   "cell_type": "markdown",
   "metadata": {},
   "source": [
    "## Importing the dataset\n",
    "First, we need to import the dataset, using the `pandas` library."
   ]
  },
  {
   "cell_type": "code",
   "execution_count": null,
   "metadata": {},
   "outputs": [],
   "source": [
    "# Size of the file\n",
    "\n",
    "filename = 'data/gdp-sector-composition.csv'\n",
    "\n",
    "file = stat(filename)\n",
    "print(f'File size: {file.st_size / 1024} kB.')\n",
    "\n",
    "# Read the CSV file\n",
    "\n",
    "df = pd.read_csv(filename, low_memory=False)\n",
    "df.rename(columns={'Unnamed: 5': 'Rank Agriculture', 'Unnamed: 6' : 'Agriculture % of GDP', 'Unnamed: 8' : 'Rank Industry', 'Unnamed: 9' : 'Industry % of GPD', 'Unnamed: 11': 'Rank Services', 'Unnamed: 12' : 'Services % of GDP'}, inplace=True)\n",
    "\n",
    "for col in df.columns:\n",
    "    if col.startswith('Country'): continue\n",
    "    if df[col].dtype == 'object':\n",
    "        df[col] = pd.to_numeric(df[col], errors='coerce')\n",
    "\n",
    "if df.isna().sum().sum() > 0:\n",
    "    print('There are missing values in the dataset.')\n",
    "    print('Dropping lines')\n",
    "    print(f'Number of lines before dropping: {df.shape}')\n",
    "    df.dropna(axis = 0, inplace=True)\n",
    "    print(f'Number of lines after dropping: {df.shape}')\n",
    "else: print(f'Data from the CSV file: {df.shape}')"
   ]
  },
  {
   "attachments": {},
   "cell_type": "markdown",
   "metadata": {},
   "source": [
    "## Data visualization\n",
    "We are now going to visualize the data, using the `matplotlib` library."
   ]
  },
  {
   "cell_type": "code",
   "execution_count": null,
   "metadata": {},
   "outputs": [],
   "source": [
    "display(df.info())\n",
    "display(df.head(10))\n",
    "display(df.describe())"
   ]
  },
  {
   "attachments": {},
   "cell_type": "markdown",
   "metadata": {},
   "source": [
    "Now, as our data are ready, we can now visualize them."
   ]
  },
  {
   "cell_type": "code",
   "execution_count": null,
   "metadata": {},
   "outputs": [],
   "source": [
    "plt.figure(figsize=(15, 9))\n",
    "plt.hist(df['Agriculture % of GDP'], bins=20, color = 'blue', alpha = 0.5, histtype='stepfilled', label='Agriculture', edgecolor='black')\n",
    "plt.hist(df['Industry % of GPD'], bins=20, color = 'red', alpha = 0.5, histtype='stepfilled', label='Industry', edgecolor='black')\n",
    "plt.hist(df['Services % of GDP'], bins=20, color = 'green', alpha = 0.5, histtype='stepfilled', label='Services', edgecolor='black')\n",
    "plt.legend()\n",
    "plt.title('GDP Sector Composition')\n",
    "plt.show()"
   ]
  },
  {
   "attachments": {},
   "cell_type": "markdown",
   "metadata": {},
   "source": [
    "Now, we are going to plot this importance per country."
   ]
  },
  {
   "cell_type": "code",
   "execution_count": null,
   "metadata": {},
   "outputs": [],
   "source": [
    "plt.figure(figsize=(15, 9))\n",
    "plt.title('Weight of agriculture in GDP')\n",
    "plt.barh(df['Country/Economy'], df['Agriculture % of GDP'], color = 'blue')\n",
    "plt.show()"
   ]
  },
  {
   "cell_type": "code",
   "execution_count": null,
   "metadata": {},
   "outputs": [],
   "source": [
    "plt.figure(figsize=(15, 9))\n",
    "plt.title('Weight of industry in GDP')\n",
    "plt.barh(df['Country/Economy'], df['Industry % of GDP'], color = 'blue')\n",
    "plt.show()"
   ]
  },
  {
   "cell_type": "code",
   "execution_count": null,
   "metadata": {},
   "outputs": [],
   "source": [
    "plt.figure(figsize=(15, 9))\n",
    "plt.title('Weight of services in GDP')\n",
    "plt.barh(df['Country/Economy'], df['Services % of GDP'], color = 'blue')\n",
    "plt.show()"
   ]
  },
  {
   "attachments": {},
   "cell_type": "markdown",
   "metadata": {},
   "source": [
    "## Repartition per country"
   ]
  },
  {
   "cell_type": "code",
   "execution_count": null,
   "metadata": {},
   "outputs": [],
   "source": [
    "for country in df['Country/Economy']:\n",
    "    plt.figure(figsize=(10, 7))\n",
    "    plt.title(f'Weight of sectors in GDP of {country}')\n",
    "    plt.pie(df[df['Country/Economy'] == country][['Agriculture % of GDP', 'Industry % of GPD', 'Services % of GDP']].values[0], labels=['Agriculture', 'Industry', 'Services'], autopct='%1.1f%%', shadow=True, startangle=90)\n",
    "    plt.show()"
   ]
  }
 ],
 "metadata": {
  "kernelspec": {
   "display_name": "Python 3",
   "language": "python",
   "name": "python3"
  },
  "language_info": {
   "codemirror_mode": {
    "name": "ipython",
    "version": 3
   },
   "file_extension": ".py",
   "mimetype": "text/x-python",
   "name": "python",
   "nbconvert_exporter": "python",
   "pygments_lexer": "ipython3",
   "version": "3.11.2"
  },
  "orig_nbformat": 4
 },
 "nbformat": 4,
 "nbformat_minor": 2
}
