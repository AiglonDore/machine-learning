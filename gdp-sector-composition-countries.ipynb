{
 "cells": [
  {
   "attachments": {},
   "cell_type": "markdown",
   "metadata": {},
   "source": [
    "# List of Countries by GDP Sector Composition\n",
    "The dataset is available on [Kaggle](https://www.kaggle.com/datasets/rajkumarpandey02/list-of-countries-by-gdp-sector-composition).\n",
    "The goal of this dataset is to provide data visualisation of the GDP sector composition of countries.\n",
    "We will also try to predict the GDP sector composition of countries using machine learning algorithms."
   ]
  },
  {
   "cell_type": "code",
   "execution_count": null,
   "metadata": {},
   "outputs": [],
   "source": [
    "import pandas as pd\n",
    "import numpy as np\n",
    "import matplotlib.pyplot as plt\n",
    "from os import stat\n",
    "from IPython.display import display"
   ]
  },
  {
   "attachments": {},
   "cell_type": "markdown",
   "metadata": {},
   "source": [
    "## Importing the dataset\n",
    "First, we need to import the dataset, using the `pandas` library."
   ]
  },
  {
   "cell_type": "code",
   "execution_count": null,
   "metadata": {},
   "outputs": [],
   "source": [
    "# Size of the file\n",
    "\n",
    "filename = 'data/gdp-sector-composition.csv'\n",
    "\n",
    "file = stat(filename)\n",
    "print(f'File size: {file.st_size / 1024} kB.')\n",
    "\n",
    "# Read the CSV file\n",
    "\n",
    "df = pd.read_csv(filename, low_memory=False)\n",
    "\n",
    "print(f'Data from the CSV file: {df.shape}')\n",
    "display(df.info())\n",
    "display(df.head(10))\n",
    "display(df.describe())"
   ]
  }
 ],
 "metadata": {
  "language_info": {
   "name": "python"
  },
  "orig_nbformat": 4
 },
 "nbformat": 4,
 "nbformat_minor": 2
}
